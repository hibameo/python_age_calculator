{
  "nbformat": 4,
  "nbformat_minor": 0,
  "metadata": {
    "colab": {
      "provenance": [],
      "include_colab_link": true
    },
    "kernelspec": {
      "name": "python3",
      "display_name": "Python 3"
    },
    "language_info": {
      "name": "python"
    }
  },
  "cells": [
    {
      "cell_type": "markdown",
      "metadata": {
        "id": "view-in-github",
        "colab_type": "text"
      },
      "source": [
        "<a href=\"https://colab.research.google.com/github/hibameo/python_age_calculator/blob/main/Age_Calculator.ipynb\" target=\"_parent\"><img src=\"https://colab.research.google.com/assets/colab-badge.svg\" alt=\"Open In Colab\"/></a>"
      ]
    },
    {
      "cell_type": "markdown",
      "source": [
        "***Age Calculator***\n",
        "\n",
        " Features:\n",
        "\n",
        " User se birth year lega\n",
        "\n",
        " Current year ke hisaab se age calculate karega"
      ],
      "metadata": {
        "id": "Eh364hWWqw7n"
      }
    },
    {
      "cell_type": "code",
      "source": [
        "current_year = 2025\n",
        "birth_year = int(input(\"Enter your birth year: \"))\n",
        "\n",
        "age = current_year - birth_year\n",
        "print(f\"You are {age} years old!\")\n"
      ],
      "metadata": {
        "id": "YQNyiyoxrChs",
        "outputId": "ec235809-c923-4283-ac42-05d5676b49d8",
        "colab": {
          "base_uri": "https://localhost:8080/"
        }
      },
      "execution_count": 1,
      "outputs": [
        {
          "output_type": "stream",
          "name": "stdout",
          "text": [
            "Enter your birth year: 2005\n",
            "You are 20 years old!\n"
          ]
        }
      ]
    }
  ]
}